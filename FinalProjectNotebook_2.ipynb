{
 "cells": [
  {
   "cell_type": "code",
   "execution_count": 1,
   "metadata": {},
   "outputs": [],
   "source": [
    "import datetime as dt\n",
    "import os, glob\n",
    "import time\n",
    "import numpy as np\n",
    "import pandas as pd\n",
    "import pathlib as pb\n",
    "import cv2\n",
    "from PIL import Image"
   ]
  },
  {
   "cell_type": "markdown",
   "metadata": {},
   "source": [
    "### Getting Current Working Directory - CWD"
   ]
  },
  {
   "cell_type": "code",
   "execution_count": 2,
   "metadata": {},
   "outputs": [
    {
     "name": "stdout",
     "output_type": "stream",
     "text": [
      "D:\\NITESH PERSONAL\\PROJECTS\\FINAL PROJECT\n"
     ]
    }
   ],
   "source": [
    "directory = os.getcwd()\n",
    "print(directory)"
   ]
  },
  {
   "cell_type": "code",
   "execution_count": 3,
   "metadata": {},
   "outputs": [
    {
     "data": {
      "text/plain": [
       "'D:/NITESH PERSONAL/PROJECTS/FINAL PROJECT/Unidentified/20210412'"
      ]
     },
     "execution_count": 3,
     "metadata": {},
     "output_type": "execute_result"
    }
   ],
   "source": [
    "def onlyalphanum(st):\n",
    "    st = ''.join(e for e in st if e.isalnum())\n",
    "    return st[:14]\n",
    "\n",
    "def get_todays_folder():\n",
    "    today = onlyalphanum(str(dt.date.today()))\n",
    "    final_path = os.path.join(directory+\"/Unidentified/\"+today)\n",
    "    if not os.path.exists(final_path):\n",
    "        os.makedirs(final_path)\n",
    "        open(final_path+'/log_file.csv', 'a');\n",
    "    valid_path = pb.PureWindowsPath(final_path).as_posix()\n",
    "    return valid_path\n",
    "\n",
    "get_todays_folder()"
   ]
  },
  {
   "cell_type": "code",
   "execution_count": 4,
   "metadata": {},
   "outputs": [],
   "source": [
    "log_file = open(os.path.join(directory+\"/Unidentified/\"+onlyalphanum(str(dt.date.today())))+'/log_file.csv', 'a+');"
   ]
  },
  {
   "cell_type": "markdown",
   "metadata": {},
   "source": [
    "### Importing the DB of Authorised users"
   ]
  },
  {
   "cell_type": "code",
   "execution_count": 5,
   "metadata": {},
   "outputs": [
    {
     "data": {
      "text/html": [
       "<div>\n",
       "<style scoped>\n",
       "    .dataframe tbody tr th:only-of-type {\n",
       "        vertical-align: middle;\n",
       "    }\n",
       "\n",
       "    .dataframe tbody tr th {\n",
       "        vertical-align: top;\n",
       "    }\n",
       "\n",
       "    .dataframe thead th {\n",
       "        text-align: right;\n",
       "    }\n",
       "</style>\n",
       "<table border=\"1\" class=\"dataframe\">\n",
       "  <thead>\n",
       "    <tr style=\"text-align: right;\">\n",
       "      <th></th>\n",
       "      <th>name</th>\n",
       "    </tr>\n",
       "    <tr>\n",
       "      <th>id</th>\n",
       "      <th></th>\n",
       "    </tr>\n",
       "  </thead>\n",
       "  <tbody>\n",
       "    <tr>\n",
       "      <th>0</th>\n",
       "      <td>Nitesh</td>\n",
       "    </tr>\n",
       "    <tr>\n",
       "      <th>1</th>\n",
       "      <td>Akshat</td>\n",
       "    </tr>\n",
       "  </tbody>\n",
       "</table>\n",
       "</div>"
      ],
      "text/plain": [
       "       name\n",
       "id         \n",
       "0    Nitesh\n",
       "1    Akshat"
      ]
     },
     "execution_count": 5,
     "metadata": {},
     "output_type": "execute_result"
    }
   ],
   "source": [
    "db = pd.read_csv('database.csv', index_col='id')\n",
    "db.head()"
   ]
  },
  {
   "cell_type": "code",
   "execution_count": 6,
   "metadata": {},
   "outputs": [],
   "source": [
    "class ImageIdentificationAlgorithm():\n",
    "    def __init__(self):\n",
    "        pass\n",
    "    \n",
    "    #Dataset Generator\n",
    "    def generateDataset(self,name):\n",
    "        global db\n",
    "        if name in db['name'].values:\n",
    "            print(name,\"..already exists\")\n",
    "        else:\n",
    "            id = self.updateDB(name)\n",
    "            vid_cam = cv2.VideoCapture(0)\n",
    "            vid_cam.set(3, 480)\n",
    "            vid_cam.set(4, 360)\n",
    "            face_detector = cv2.CascadeClassifier('haarcascade_frontalface_default.xml')\n",
    "            count = 0;\n",
    "            while True:\n",
    "                check, Image_frame = vid_cam.read()\n",
    "                gray = cv2.cvtColor(Image_frame, cv2.COLOR_BGR2GRAY)\n",
    "                faces = face_detector.detectMultiScale(Image_frame, 1.2, 5)\n",
    "\n",
    "                for x, y, w, h in faces:\n",
    "                    cv2.rectangle(Image_frame, (x, y), (x + w, y + h), (255, 0, 0), 2)\n",
    "                    count += 1\n",
    "                    saving_path = os.path.join(directory+\"\\data\",\"user.\"+str(id) + \".\" + str(count) + \".jpg\")\n",
    "                    cv2.imwrite(saving_path, Image_frame)\n",
    "                    cv2.imshow(str(id), Image_frame)\n",
    "\n",
    "                if (cv2.waitKey(100)) == ord('q'):\n",
    "                    break\n",
    "                elif (count >= 50):\n",
    "                    break\n",
    "\n",
    "            vid_cam.release()\n",
    "            cv2.destroyAllWindows()\n",
    "            print(name, '... is authorised with ID -', id)\n",
    "            \n",
    "    #Trainer\n",
    "    def train(self):\n",
    "        recognizer = cv2.face_LBPHFaceRecognizer.create()\n",
    "        detector = cv2.CascadeClassifier('haarcascade_frontalface_default.xml')\n",
    "\n",
    "        def getImagesAndLabels(path=None):\n",
    "            if path is None: path = directory+\"/data\"\n",
    "            imagepaths = [os.path.join(path, f) for f in os.listdir(path)]\n",
    "            face_samples = []\n",
    "            ids = []\n",
    "            for image_path in imagepaths:\n",
    "                pil_img = Image.open(image_path).convert('L')\n",
    "                img_numpy = np.array(pil_img, 'uint8')\n",
    "                id = int(os.path.split(image_path)[-1].split(\".\")[1])\n",
    "                faces = detector.detectMultiScale(img_numpy)\n",
    "                \n",
    "                for x, y, w, h in faces:\n",
    "                    face_samples.append(img_numpy[y:y + h, x:x + w])\n",
    "                    ids.append(id)\n",
    "                    \n",
    "#             print(len(ids))\n",
    "            return face_samples, ids\n",
    "\n",
    "        faces, ids = getImagesAndLabels()\n",
    "        if(len(faces)==0 or len(ids)==0):\n",
    "            os.remove('Trainer/trainer.yml')\n",
    "            print('No training data')\n",
    "            return\n",
    "        recognizer.train(faces, np.array(ids))\n",
    "        recognizer.save('trainer/trainer.yml')\n",
    "        recognizer.write('trainer/trainer.yml')\n",
    "        print(\"Trained Succesfully....\")\n",
    "        exit(1)\n",
    "        \n",
    "    #Recognizer\n",
    "    def recognize(self):\n",
    "        recognizer = cv2.face_LBPHFaceRecognizer.create()\n",
    "        recognizer.read('trainer/trainer.yml')\n",
    "        facecascade = cv2.CascadeClassifier(\"haarcascade_frontalface_default.xml\")\n",
    "\n",
    "        font = cv2.FONT_HERSHEY_COMPLEX_SMALL\n",
    "\n",
    "        cam = cv2.VideoCapture(0)\n",
    "        cam.set(3, 480)\n",
    "        cam.set(4, 360)\n",
    "\n",
    "        minW = int(0.1 * cam.get(3))\n",
    "        minH = int(0.1 * cam.get(4))\n",
    "\n",
    "        while True:\n",
    "            check, Image_frame = cam.read()\n",
    "            gray = cv2.cvtColor(Image_frame, cv2.COLOR_BGR2GRAY)\n",
    "\n",
    "            faces = facecascade.detectMultiScale(Image_frame, 1.1, 5, minSize=(35,35))\n",
    "            for x, y, w, h in faces:\n",
    "                cv2.rectangle(Image_frame, (x, y), (x + w, y + h), (0, 255, 0), 2)\n",
    "                id, confidence = recognizer.predict(gray[y:y + h, x:x + w])\n",
    "                confidence = round(100 - confidence)\n",
    "\n",
    "                if (confidence <= 25):\n",
    "                    name = \"unknown_user\"\n",
    "                    path = str(get_todays_folder())\n",
    "                    file_name = path + \"/unkn_at_\" + onlyalphanum(str(dt.datetime.now())) + \".jpg\"                    \n",
    "                    cv2.imwrite(file_name, Image_frame)\n",
    "\n",
    "                elif (confidence < 100 and confidence > 25):\n",
    "                    global db\n",
    "                    name = db.loc[id][0]\n",
    "#                     print(id,db.loc[id]);\n",
    "                    log_file.write(name+\",\"+str(dt.datetime.now())+\"\\n\")\n",
    "\n",
    "                confidence = \" {0}%\".format(round(100 - confidence))\n",
    "\n",
    "                cv2.putText(Image_frame, str(name), (x + 5, y - 5), font, 1, (255, 255, 255), 2)\n",
    "                cv2.putText(Image_frame, confidence, (x + 5, y + h - 5), font, 1, (255, 255, 255), 1)\n",
    "                time.sleep(0.5)\n",
    "\n",
    "            cv2.imshow('Recognizing', Image_frame)\n",
    "            if cv2.waitKey(10) == ord('q'):\n",
    "                break\n",
    "\n",
    "        cam.release()\n",
    "        cv2.destroyAllWindows()\n",
    "        \n",
    "    #Remove/Unauthorize User\n",
    "    def removeUser(self, name):\n",
    "        name = name.lower()\n",
    "        global db\n",
    "        if name in db['name'].values:\n",
    "            for file in glob.iglob('Data/user.'+str(db[db['name']==name].index[0])+'*.jpg'):\n",
    "                os.remove(file)        \n",
    "            db = db[db['name']!=name]\n",
    "            db.to_csv('database.csv')\n",
    "            db = pd.read_csv('database.csv', index_col='id')                \n",
    "            self.train()\n",
    "        else:\n",
    "            print('User doesn\\'t exisit...')\n",
    "    \n",
    "    #Update Database\n",
    "    def updateDB(self, name):\n",
    "        global db\n",
    "        newId = 0 if (len(db.index) == 0) else (db.loc[len(db.index)-1].name+1)\n",
    "        db.loc[newId] = name.lower()\n",
    "        db.to_csv('database.csv')\n",
    "        db = pd.read_csv('database.csv', index_col='id')\n",
    "        return newId\n",
    "    \n",
    "    \n",
    "algo = ImageIdentificationAlgorithm()  "
   ]
  },
  {
   "cell_type": "markdown",
   "metadata": {},
   "source": [
    "## Driver Code"
   ]
  },
  {
   "cell_type": "code",
   "execution_count": 32,
   "metadata": {},
   "outputs": [
    {
     "name": "stdout",
     "output_type": "stream",
     "text": [
      "Nitesh ... is authorised with ID - 0\n"
     ]
    }
   ],
   "source": [
    "algo.generateDataset('Nitesh')"
   ]
  },
  {
   "cell_type": "code",
   "execution_count": 33,
   "metadata": {},
   "outputs": [
    {
     "name": "stdout",
     "output_type": "stream",
     "text": [
      "Trained Succesfully....\n"
     ]
    }
   ],
   "source": [
    "algo.train()"
   ]
  },
  {
   "cell_type": "code",
   "execution_count": 7,
   "metadata": {},
   "outputs": [
    {
     "name": "stdout",
     "output_type": "stream",
     "text": [
      "0 name    nitesh\n",
      "Name: 0, dtype: object\n",
      "0 name    nitesh\n",
      "Name: 0, dtype: object\n",
      "0 name    nitesh\n",
      "Name: 0, dtype: object\n",
      "0 name    nitesh\n",
      "Name: 0, dtype: object\n",
      "0 name    nitesh\n",
      "Name: 0, dtype: object\n",
      "0 name    nitesh\n",
      "Name: 0, dtype: object\n",
      "0 name    nitesh\n",
      "Name: 0, dtype: object\n",
      "0 name    nitesh\n",
      "Name: 0, dtype: object\n",
      "0 name    nitesh\n",
      "Name: 0, dtype: object\n",
      "0 name    nitesh\n",
      "Name: 0, dtype: object\n",
      "0 name    nitesh\n",
      "Name: 0, dtype: object\n",
      "0 name    nitesh\n",
      "Name: 0, dtype: object\n",
      "0 name    nitesh\n",
      "Name: 0, dtype: object\n",
      "0 name    nitesh\n",
      "Name: 0, dtype: object\n",
      "0 name    nitesh\n",
      "Name: 0, dtype: object\n",
      "0 name    nitesh\n",
      "Name: 0, dtype: object\n",
      "0 name    nitesh\n",
      "Name: 0, dtype: object\n",
      "0 name    nitesh\n",
      "Name: 0, dtype: object\n",
      "0 name    nitesh\n",
      "Name: 0, dtype: object\n",
      "0 name    nitesh\n",
      "Name: 0, dtype: object\n",
      "0 name    nitesh\n",
      "Name: 0, dtype: object\n",
      "0 name    nitesh\n",
      "Name: 0, dtype: object\n"
     ]
    }
   ],
   "source": [
    "algo.recognize()"
   ]
  },
  {
   "cell_type": "code",
   "execution_count": 8,
   "metadata": {},
   "outputs": [
    {
     "name": "stdout",
     "output_type": "stream",
     "text": [
      "No training data\n"
     ]
    }
   ],
   "source": [
    "algo.removeUser('nitesh')"
   ]
  },
  {
   "cell_type": "code",
   "execution_count": 9,
   "metadata": {},
   "outputs": [
    {
     "name": "stdout",
     "output_type": "stream",
     "text": [
      "1. Recognize\n",
      "2. Add new User\n",
      "3. remove User\n",
      "4. show Database\n",
      "5. Exit\n"
     ]
    },
    {
     "name": "stdin",
     "output_type": "stream",
     "text": [
      " 2\n",
      "enter the name of the user nitesh\n"
     ]
    },
    {
     "name": "stdout",
     "output_type": "stream",
     "text": [
      "nitesh ... is authorised with ID - 0\n",
      "Trained Succesfully....\n",
      "1. Recognize\n",
      "2. Add new User\n",
      "3. remove User\n",
      "4. show Database\n",
      "5. Exit\n"
     ]
    },
    {
     "name": "stdin",
     "output_type": "stream",
     "text": [
      " 1\n"
     ]
    },
    {
     "name": "stdout",
     "output_type": "stream",
     "text": [
      "0 name    nitesh\n",
      "Name: 0, dtype: object\n",
      "0 name    nitesh\n",
      "Name: 0, dtype: object\n",
      "0 name    nitesh\n",
      "Name: 0, dtype: object\n",
      "0 name    nitesh\n",
      "Name: 0, dtype: object\n",
      "0 name    nitesh\n",
      "Name: 0, dtype: object\n",
      "0 name    nitesh\n",
      "Name: 0, dtype: object\n",
      "0 name    nitesh\n",
      "Name: 0, dtype: object\n",
      "0 name    nitesh\n",
      "Name: 0, dtype: object\n",
      "0 name    nitesh\n",
      "Name: 0, dtype: object\n",
      "0 name    nitesh\n",
      "Name: 0, dtype: object\n",
      "0 name    nitesh\n",
      "Name: 0, dtype: object\n",
      "0 name    nitesh\n",
      "Name: 0, dtype: object\n",
      "0 name    nitesh\n",
      "Name: 0, dtype: object\n",
      "0 name    nitesh\n",
      "Name: 0, dtype: object\n",
      "1. Recognize\n",
      "2. Add new User\n",
      "3. remove User\n",
      "4. show Database\n",
      "5. Exit\n"
     ]
    },
    {
     "name": "stdin",
     "output_type": "stream",
     "text": [
      " 4\n"
     ]
    },
    {
     "name": "stdout",
     "output_type": "stream",
     "text": [
      "      name\n",
      "id        \n",
      "0   nitesh\n",
      "1. Recognize\n",
      "2. Add new User\n",
      "3. remove User\n",
      "4. show Database\n",
      "5. Exit\n"
     ]
    },
    {
     "name": "stdin",
     "output_type": "stream",
     "text": [
      " 3\n",
      "enter the name of user to be removed nitesh\n"
     ]
    },
    {
     "name": "stdout",
     "output_type": "stream",
     "text": [
      "No training data\n",
      "1. Recognize\n",
      "2. Add new User\n",
      "3. remove User\n",
      "4. show Database\n",
      "5. Exit\n"
     ]
    },
    {
     "name": "stdin",
     "output_type": "stream",
     "text": [
      " 5\n"
     ]
    },
    {
     "name": "stdout",
     "output_type": "stream",
     "text": [
      "Exitting...\n"
     ]
    }
   ],
   "source": [
    "while True:\n",
    "    print('1. Recognize')\n",
    "    print('2. Add new User')\n",
    "    print('3. remove User')\n",
    "    print('4. show Database')\n",
    "    print('5. Exit')\n",
    "    s = (int)(input())\n",
    "    if(s==1):\n",
    "        algo.recognize()\n",
    "    elif(s==2):\n",
    "        name = input(\"enter the name of the user\")\n",
    "        algo.generateDataset(name)\n",
    "        algo.train()\n",
    "    elif(s==3):\n",
    "        name = input('enter the name of user to be removed')\n",
    "        algo.removeUser(name)\n",
    "    elif(s==4):\n",
    "        global db\n",
    "        print(db)\n",
    "    elif(s==5):\n",
    "        print('Exitting...')\n",
    "        break"
   ]
  },
  {
   "cell_type": "code",
   "execution_count": 7,
   "metadata": {},
   "outputs": [
    {
     "data": {
      "text/html": [
       "<div>\n",
       "<style scoped>\n",
       "    .dataframe tbody tr th:only-of-type {\n",
       "        vertical-align: middle;\n",
       "    }\n",
       "\n",
       "    .dataframe tbody tr th {\n",
       "        vertical-align: top;\n",
       "    }\n",
       "\n",
       "    .dataframe thead th {\n",
       "        text-align: right;\n",
       "    }\n",
       "</style>\n",
       "<table border=\"1\" class=\"dataframe\">\n",
       "  <thead>\n",
       "    <tr style=\"text-align: right;\">\n",
       "      <th></th>\n",
       "      <th>name</th>\n",
       "    </tr>\n",
       "    <tr>\n",
       "      <th>id</th>\n",
       "      <th></th>\n",
       "    </tr>\n",
       "  </thead>\n",
       "  <tbody>\n",
       "    <tr>\n",
       "      <th>0</th>\n",
       "      <td>nitesh</td>\n",
       "    </tr>\n",
       "  </tbody>\n",
       "</table>\n",
       "</div>"
      ],
      "text/plain": [
       "      name\n",
       "id        \n",
       "0   nitesh"
      ]
     },
     "execution_count": 7,
     "metadata": {},
     "output_type": "execute_result"
    }
   ],
   "source": [
    "db.head()"
   ]
  },
  {
   "cell_type": "code",
   "execution_count": 9,
   "metadata": {},
   "outputs": [
    {
     "data": {
      "text/plain": [
       "'nitesh'"
      ]
     },
     "execution_count": 9,
     "metadata": {},
     "output_type": "execute_result"
    }
   ],
   "source": [
    "db.loc[0][0]"
   ]
  }
 ],
 "metadata": {
  "kernelspec": {
   "display_name": "Python 3",
   "language": "python",
   "name": "python3"
  },
  "language_info": {
   "codemirror_mode": {
    "name": "ipython",
    "version": 3
   },
   "file_extension": ".py",
   "mimetype": "text/x-python",
   "name": "python",
   "nbconvert_exporter": "python",
   "pygments_lexer": "ipython3",
   "version": "3.8.5"
  }
 },
 "nbformat": 4,
 "nbformat_minor": 4
}
